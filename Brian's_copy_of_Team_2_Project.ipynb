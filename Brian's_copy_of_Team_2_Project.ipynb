{
  "nbformat": 4,
  "nbformat_minor": 0,
  "metadata": {
    "colab": {
      "name": "Brian's copy of Team_2_Project",
      "provenance": [],
      "collapsed_sections": [],
      "include_colab_link": true
    },
    "kernelspec": {
      "name": "python3",
      "display_name": "Python 3"
    }
  },
  "cells": [
    {
      "cell_type": "markdown",
      "metadata": {
        "id": "view-in-github",
        "colab_type": "text"
      },
      "source": [
        "<a href=\"https://colab.research.google.com/github/BrianChegeGichau/ecommerceretailanalysis/blob/master/Brian's_copy_of_Team_2_Project.ipynb\" target=\"_parent\"><img src=\"https://colab.research.google.com/assets/colab-badge.svg\" alt=\"Open In Colab\"/></a>"
      ]
    },
    {
      "cell_type": "markdown",
      "metadata": {
        "id": "HQUzplwMIBlw",
        "colab_type": "text"
      },
      "source": [
        "MORINGA DATA SCIENCE PREP: WEEK 5"
      ]
    },
    {
      "cell_type": "markdown",
      "metadata": {
        "id": "QOnrZMjAyCl-",
        "colab_type": "text"
      },
      "source": [
        "E-COMMERCE RETAIL COMPANY BASED IN THE UK \n",
        "\n",
        "\n",
        "source of the dataset; '/content/data.csv'\n",
        "\n",
        " from kaggle website\n",
        "\n",
        "OBJECTIVE\n",
        "\n",
        "Which products, country, month should the e-commerce retailer focus on and which products should it do away with in a  bid to improve its marketing, inventory management and yearly turnover? "
      ]
    },
    {
      "cell_type": "markdown",
      "metadata": {
        "id": "h8y5_965BDDz",
        "colab_type": "text"
      },
      "source": [
        "questions\n",
        "\n",
        "i) Which is the peak month of the year? Which is the most popular day for purchases?  \n",
        "\n",
        "\n",
        "ii) Which product is most popularly bought in the United Kingdom, France and Australia?Which are the top three countries? Which item has brought in most returns? Overall and in the individual countries? Is the most popular product the one that has the most revenue?\n",
        "\n",
        "\n",
        "iii) Which products are more likely to have cancelling issues? The country with the highest cancelling issues,the popular product cancelled least and the highest.\n",
        "\n",
        "\n",
        "   iv) Which items have brought in the least returns? Overall and in the individual countries?    Does the least popular product bring in the least returns? \n",
        " \n",
        "\n",
        "  v) Which country do we have the most customers from? Is it the country bringing the most revenue? What is the average expenditure of a consumer in the UK? Germany? France? \n",
        "\n",
        " \n",
        "vi) Which country  is seen to require more marketing to optimize its expenditure?\n"
      ]
    },
    {
      "cell_type": "markdown",
      "metadata": {
        "id": "b3N0nyOtOr0Y",
        "colab_type": "text"
      },
      "source": [
        "importing libraries"
      ]
    },
    {
      "cell_type": "code",
      "metadata": {
        "id": "ZzbkUi4GCRK9",
        "colab_type": "code",
        "colab": {
          "base_uri": "https://localhost:8080/",
          "height": 71
        },
        "outputId": "b4500ab9-44a3-4058-92d1-ae29b35ab1ab"
      },
      "source": [
        "import pandas as pd\n",
        "import numpy as np\n",
        "import seaborn as sns\n",
        "import matplotlib.pyplot as plt"
      ],
      "execution_count": 1,
      "outputs": [
        {
          "output_type": "stream",
          "text": [
            "/usr/local/lib/python3.6/dist-packages/statsmodels/tools/_testing.py:19: FutureWarning: pandas.util.testing is deprecated. Use the functions in the public API at pandas.testing instead.\n",
            "  import pandas.util.testing as tm\n"
          ],
          "name": "stderr"
        }
      ]
    },
    {
      "cell_type": "markdown",
      "metadata": {
        "id": "0ktN7ROOlJ3U",
        "colab_type": "text"
      },
      "source": [
        "loading our csv files "
      ]
    },
    {
      "cell_type": "code",
      "metadata": {
        "id": "Jy_rpbW0CfPY",
        "colab_type": "code",
        "outputId": "f39502bd-490c-4b64-dbcc-0e6e634e6ad7",
        "colab": {
          "base_uri": "https://localhost:8080/",
          "height": 529
        }
      },
      "source": [
        "#loading our csv files and previewing the first 10 rows\n",
        "url = '/content/data.csv'\n",
        "df = pd.read_csv(url, encoding='latin1')\n",
        "df.head(10)"
      ],
      "execution_count": 2,
      "outputs": [
        {
          "output_type": "execute_result",
          "data": {
            "text/html": [
              "<div>\n",
              "<style scoped>\n",
              "    .dataframe tbody tr th:only-of-type {\n",
              "        vertical-align: middle;\n",
              "    }\n",
              "\n",
              "    .dataframe tbody tr th {\n",
              "        vertical-align: top;\n",
              "    }\n",
              "\n",
              "    .dataframe thead th {\n",
              "        text-align: right;\n",
              "    }\n",
              "</style>\n",
              "<table border=\"1\" class=\"dataframe\">\n",
              "  <thead>\n",
              "    <tr style=\"text-align: right;\">\n",
              "      <th></th>\n",
              "      <th>InvoiceNo</th>\n",
              "      <th>StockCode</th>\n",
              "      <th>Description</th>\n",
              "      <th>Quantity</th>\n",
              "      <th>InvoiceDate</th>\n",
              "      <th>UnitPrice</th>\n",
              "      <th>CustomerID</th>\n",
              "      <th>Country</th>\n",
              "    </tr>\n",
              "  </thead>\n",
              "  <tbody>\n",
              "    <tr>\n",
              "      <th>0</th>\n",
              "      <td>536365</td>\n",
              "      <td>85123A</td>\n",
              "      <td>WHITE HANGING HEART T-LIGHT HOLDER</td>\n",
              "      <td>6</td>\n",
              "      <td>12/1/2010 8:26</td>\n",
              "      <td>2.55</td>\n",
              "      <td>17850.0</td>\n",
              "      <td>United Kingdom</td>\n",
              "    </tr>\n",
              "    <tr>\n",
              "      <th>1</th>\n",
              "      <td>536365</td>\n",
              "      <td>71053</td>\n",
              "      <td>WHITE METAL LANTERN</td>\n",
              "      <td>6</td>\n",
              "      <td>12/1/2010 8:26</td>\n",
              "      <td>3.39</td>\n",
              "      <td>17850.0</td>\n",
              "      <td>United Kingdom</td>\n",
              "    </tr>\n",
              "    <tr>\n",
              "      <th>2</th>\n",
              "      <td>536365</td>\n",
              "      <td>84406B</td>\n",
              "      <td>CREAM CUPID HEARTS COAT HANGER</td>\n",
              "      <td>8</td>\n",
              "      <td>12/1/2010 8:26</td>\n",
              "      <td>2.75</td>\n",
              "      <td>17850.0</td>\n",
              "      <td>United Kingdom</td>\n",
              "    </tr>\n",
              "    <tr>\n",
              "      <th>3</th>\n",
              "      <td>536365</td>\n",
              "      <td>84029G</td>\n",
              "      <td>KNITTED UNION FLAG HOT WATER BOTTLE</td>\n",
              "      <td>6</td>\n",
              "      <td>12/1/2010 8:26</td>\n",
              "      <td>3.39</td>\n",
              "      <td>17850.0</td>\n",
              "      <td>United Kingdom</td>\n",
              "    </tr>\n",
              "    <tr>\n",
              "      <th>4</th>\n",
              "      <td>536365</td>\n",
              "      <td>84029E</td>\n",
              "      <td>RED WOOLLY HOTTIE WHITE HEART.</td>\n",
              "      <td>6</td>\n",
              "      <td>12/1/2010 8:26</td>\n",
              "      <td>3.39</td>\n",
              "      <td>17850.0</td>\n",
              "      <td>United Kingdom</td>\n",
              "    </tr>\n",
              "    <tr>\n",
              "      <th>5</th>\n",
              "      <td>536365</td>\n",
              "      <td>22752</td>\n",
              "      <td>SET 7 BABUSHKA NESTING BOXES</td>\n",
              "      <td>2</td>\n",
              "      <td>12/1/2010 8:26</td>\n",
              "      <td>7.65</td>\n",
              "      <td>17850.0</td>\n",
              "      <td>United Kingdom</td>\n",
              "    </tr>\n",
              "    <tr>\n",
              "      <th>6</th>\n",
              "      <td>536365</td>\n",
              "      <td>21730</td>\n",
              "      <td>GLASS STAR FROSTED T-LIGHT HOLDER</td>\n",
              "      <td>6</td>\n",
              "      <td>12/1/2010 8:26</td>\n",
              "      <td>4.25</td>\n",
              "      <td>17850.0</td>\n",
              "      <td>United Kingdom</td>\n",
              "    </tr>\n",
              "    <tr>\n",
              "      <th>7</th>\n",
              "      <td>536366</td>\n",
              "      <td>22633</td>\n",
              "      <td>HAND WARMER UNION JACK</td>\n",
              "      <td>6</td>\n",
              "      <td>12/1/2010 8:28</td>\n",
              "      <td>1.85</td>\n",
              "      <td>17850.0</td>\n",
              "      <td>United Kingdom</td>\n",
              "    </tr>\n",
              "    <tr>\n",
              "      <th>8</th>\n",
              "      <td>536366</td>\n",
              "      <td>22632</td>\n",
              "      <td>HAND WARMER RED POLKA DOT</td>\n",
              "      <td>6</td>\n",
              "      <td>12/1/2010 8:28</td>\n",
              "      <td>1.85</td>\n",
              "      <td>17850.0</td>\n",
              "      <td>United Kingdom</td>\n",
              "    </tr>\n",
              "    <tr>\n",
              "      <th>9</th>\n",
              "      <td>536367</td>\n",
              "      <td>84879</td>\n",
              "      <td>ASSORTED COLOUR BIRD ORNAMENT</td>\n",
              "      <td>32</td>\n",
              "      <td>12/1/2010 8:34</td>\n",
              "      <td>1.69</td>\n",
              "      <td>13047.0</td>\n",
              "      <td>United Kingdom</td>\n",
              "    </tr>\n",
              "  </tbody>\n",
              "</table>\n",
              "</div>"
            ],
            "text/plain": [
              "  InvoiceNo StockCode  ... CustomerID         Country\n",
              "0    536365    85123A  ...    17850.0  United Kingdom\n",
              "1    536365     71053  ...    17850.0  United Kingdom\n",
              "2    536365    84406B  ...    17850.0  United Kingdom\n",
              "3    536365    84029G  ...    17850.0  United Kingdom\n",
              "4    536365    84029E  ...    17850.0  United Kingdom\n",
              "5    536365     22752  ...    17850.0  United Kingdom\n",
              "6    536365     21730  ...    17850.0  United Kingdom\n",
              "7    536366     22633  ...    17850.0  United Kingdom\n",
              "8    536366     22632  ...    17850.0  United Kingdom\n",
              "9    536367     84879  ...    13047.0  United Kingdom\n",
              "\n",
              "[10 rows x 8 columns]"
            ]
          },
          "metadata": {
            "tags": []
          },
          "execution_count": 2
        }
      ]
    },
    {
      "cell_type": "markdown",
      "metadata": {
        "id": "QoAf_gbwl61v",
        "colab_type": "text"
      },
      "source": [
        "Previewing information about our dataset."
      ]
    },
    {
      "cell_type": "code",
      "metadata": {
        "id": "meRf-L02Ds16",
        "colab_type": "code",
        "outputId": "22dc6fa2-1e66-4467-e8e1-c92446a552b7",
        "colab": {
          "base_uri": "https://localhost:8080/",
          "height": 272
        }
      },
      "source": [
        "df.info()"
      ],
      "execution_count": 4,
      "outputs": [
        {
          "output_type": "stream",
          "text": [
            "<class 'pandas.core.frame.DataFrame'>\n",
            "RangeIndex: 541909 entries, 0 to 541908\n",
            "Data columns (total 8 columns):\n",
            " #   Column       Non-Null Count   Dtype  \n",
            "---  ------       --------------   -----  \n",
            " 0   InvoiceNo    541909 non-null  object \n",
            " 1   StockCode    541909 non-null  object \n",
            " 2   Description  540455 non-null  object \n",
            " 3   Quantity     541909 non-null  int64  \n",
            " 4   InvoiceDate  541909 non-null  object \n",
            " 5   UnitPrice    541909 non-null  float64\n",
            " 6   CustomerID   406829 non-null  float64\n",
            " 7   Country      541909 non-null  object \n",
            "dtypes: float64(2), int64(1), object(5)\n",
            "memory usage: 33.1+ MB\n"
          ],
          "name": "stdout"
        }
      ]
    },
    {
      "cell_type": "code",
      "metadata": {
        "id": "EfQ_GpQVV2-q",
        "colab_type": "code",
        "outputId": "89d719e8-c9d9-479e-8cae-258a7acc0a6b",
        "colab": {
          "base_uri": "https://localhost:8080/",
          "height": 34
        }
      },
      "source": [
        "df.shape"
      ],
      "execution_count": 5,
      "outputs": [
        {
          "output_type": "execute_result",
          "data": {
            "text/plain": [
              "(541909, 8)"
            ]
          },
          "metadata": {
            "tags": []
          },
          "execution_count": 5
        }
      ]
    },
    {
      "cell_type": "markdown",
      "metadata": {
        "id": "d1pwQEJSYAyM",
        "colab_type": "text"
      },
      "source": [
        "DATA CLEANING "
      ]
    },
    {
      "cell_type": "markdown",
      "metadata": {
        "id": "Jc3Ub3_OX3EB",
        "colab_type": "text"
      },
      "source": [
        "Completeness "
      ]
    },
    {
      "cell_type": "code",
      "metadata": {
        "id": "dqAmMa1jDu34",
        "colab_type": "code",
        "outputId": "c5b32c1b-5dcb-40cc-a1de-99b53e801575",
        "colab": {
          "base_uri": "https://localhost:8080/",
          "height": 170
        }
      },
      "source": [
        "#checking for null values in the datasets\n",
        "df.isnull().sum()"
      ],
      "execution_count": 6,
      "outputs": [
        {
          "output_type": "execute_result",
          "data": {
            "text/plain": [
              "InvoiceNo           0\n",
              "StockCode           0\n",
              "Description      1454\n",
              "Quantity            0\n",
              "InvoiceDate         0\n",
              "UnitPrice           0\n",
              "CustomerID     135080\n",
              "Country             0\n",
              "dtype: int64"
            ]
          },
          "metadata": {
            "tags": []
          },
          "execution_count": 6
        }
      ]
    },
    {
      "cell_type": "code",
      "metadata": {
        "id": "d-ngmnQHD1IC",
        "colab_type": "code",
        "colab": {}
      },
      "source": [
        "#dropping the null values\n",
        "df1=df.dropna()"
      ],
      "execution_count": 0,
      "outputs": []
    },
    {
      "cell_type": "code",
      "metadata": {
        "id": "4c_VxoyWVvqA",
        "colab_type": "code",
        "outputId": "28f2337c-8e2c-417d-a51e-dffe0ab93204",
        "colab": {
          "base_uri": "https://localhost:8080/",
          "height": 34
        }
      },
      "source": [
        "df1.shape"
      ],
      "execution_count": 8,
      "outputs": [
        {
          "output_type": "execute_result",
          "data": {
            "text/plain": [
              "(406829, 8)"
            ]
          },
          "metadata": {
            "tags": []
          },
          "execution_count": 8
        }
      ]
    },
    {
      "cell_type": "code",
      "metadata": {
        "id": "Vg69xah8cr30",
        "colab_type": "code",
        "outputId": "267736cf-ca96-4b7c-d6eb-93210a3a1d3e",
        "colab": {
          "base_uri": "https://localhost:8080/",
          "height": 139
        }
      },
      "source": [
        "# changing the InvoiceDate to to_datetime data type\n",
        "df1['InvoiceDate']=pd.to_datetime(df1['InvoiceDate'])"
      ],
      "execution_count": 6,
      "outputs": [
        {
          "output_type": "stream",
          "text": [
            "/usr/local/lib/python3.6/dist-packages/ipykernel_launcher.py:2: SettingWithCopyWarning: \n",
            "A value is trying to be set on a copy of a slice from a DataFrame.\n",
            "Try using .loc[row_indexer,col_indexer] = value instead\n",
            "\n",
            "See the caveats in the documentation: https://pandas.pydata.org/pandas-docs/stable/user_guide/indexing.html#returning-a-view-versus-a-copy\n",
            "  \n"
          ],
          "name": "stderr"
        }
      ]
    },
    {
      "cell_type": "code",
      "metadata": {
        "id": "coio3heAd1JR",
        "colab_type": "code",
        "outputId": "289bd6f0-cbe5-4f58-ae1a-adbf1243b472",
        "colab": {
          "base_uri": "https://localhost:8080/",
          "height": 445
        }
      },
      "source": [
        "#splitting datetime to date and time\n",
        "df1['date'] = [d.date() for d in df1.InvoiceDate]\n",
        "df1['time'] = [d.time() for d in df1.InvoiceDate]\n",
        "df1['date'] = pd.to_datetime(df1['date'])\n",
        "df1['time'] = pd.to_datetime(df1['time'], format='%H:%M:%S:%f', errors = 'ignore')"
      ],
      "execution_count": 7,
      "outputs": [
        {
          "output_type": "stream",
          "text": [
            "/usr/local/lib/python3.6/dist-packages/ipykernel_launcher.py:2: SettingWithCopyWarning: \n",
            "A value is trying to be set on a copy of a slice from a DataFrame.\n",
            "Try using .loc[row_indexer,col_indexer] = value instead\n",
            "\n",
            "See the caveats in the documentation: https://pandas.pydata.org/pandas-docs/stable/user_guide/indexing.html#returning-a-view-versus-a-copy\n",
            "  \n",
            "/usr/local/lib/python3.6/dist-packages/ipykernel_launcher.py:3: SettingWithCopyWarning: \n",
            "A value is trying to be set on a copy of a slice from a DataFrame.\n",
            "Try using .loc[row_indexer,col_indexer] = value instead\n",
            "\n",
            "See the caveats in the documentation: https://pandas.pydata.org/pandas-docs/stable/user_guide/indexing.html#returning-a-view-versus-a-copy\n",
            "  This is separate from the ipykernel package so we can avoid doing imports until\n",
            "/usr/local/lib/python3.6/dist-packages/ipykernel_launcher.py:4: SettingWithCopyWarning: \n",
            "A value is trying to be set on a copy of a slice from a DataFrame.\n",
            "Try using .loc[row_indexer,col_indexer] = value instead\n",
            "\n",
            "See the caveats in the documentation: https://pandas.pydata.org/pandas-docs/stable/user_guide/indexing.html#returning-a-view-versus-a-copy\n",
            "  after removing the cwd from sys.path.\n",
            "/usr/local/lib/python3.6/dist-packages/ipykernel_launcher.py:5: SettingWithCopyWarning: \n",
            "A value is trying to be set on a copy of a slice from a DataFrame.\n",
            "Try using .loc[row_indexer,col_indexer] = value instead\n",
            "\n",
            "See the caveats in the documentation: https://pandas.pydata.org/pandas-docs/stable/user_guide/indexing.html#returning-a-view-versus-a-copy\n",
            "  \"\"\"\n"
          ],
          "name": "stderr"
        }
      ]
    },
    {
      "cell_type": "code",
      "metadata": {
        "id": "xcwObl88gOTP",
        "colab_type": "code",
        "outputId": "86f864f1-2413-4374-ec19-8c57e893b531",
        "colab": {
          "base_uri": "https://localhost:8080/",
          "height": 306
        }
      },
      "source": [
        "df1.info()"
      ],
      "execution_count": 11,
      "outputs": [
        {
          "output_type": "stream",
          "text": [
            "<class 'pandas.core.frame.DataFrame'>\n",
            "Int64Index: 406829 entries, 0 to 541908\n",
            "Data columns (total 10 columns):\n",
            " #   Column       Non-Null Count   Dtype         \n",
            "---  ------       --------------   -----         \n",
            " 0   InvoiceNo    406829 non-null  object        \n",
            " 1   StockCode    406829 non-null  object        \n",
            " 2   Description  406829 non-null  object        \n",
            " 3   Quantity     406829 non-null  int64         \n",
            " 4   InvoiceDate  406829 non-null  datetime64[ns]\n",
            " 5   UnitPrice    406829 non-null  float64       \n",
            " 6   CustomerID   406829 non-null  float64       \n",
            " 7   Country      406829 non-null  object        \n",
            " 8   date         406829 non-null  datetime64[ns]\n",
            " 9   time         406829 non-null  object        \n",
            "dtypes: datetime64[ns](2), float64(2), int64(1), object(5)\n",
            "memory usage: 34.1+ MB\n"
          ],
          "name": "stdout"
        }
      ]
    },
    {
      "cell_type": "code",
      "metadata": {
        "id": "Gih_WPd2lfW8",
        "colab_type": "code",
        "outputId": "82f45fc5-172a-47bb-de8c-25f3567ef6ff",
        "colab": {
          "base_uri": "https://localhost:8080/",
          "height": 377
        }
      },
      "source": [
        "# splitting  time to hours, minutes and seconds.\n",
        "df1[['h','m','s']] = df1['time'].astype(str).str.split(':', expand=True).astype(int)\n",
        "\n",
        "print (df1)"
      ],
      "execution_count": 8,
      "outputs": [
        {
          "output_type": "stream",
          "text": [
            "       InvoiceNo StockCode                          Description  ...   h   m  s\n",
            "0         536365    85123A   WHITE HANGING HEART T-LIGHT HOLDER  ...   8  26  0\n",
            "1         536365     71053                  WHITE METAL LANTERN  ...   8  26  0\n",
            "2         536365    84406B       CREAM CUPID HEARTS COAT HANGER  ...   8  26  0\n",
            "3         536365    84029G  KNITTED UNION FLAG HOT WATER BOTTLE  ...   8  26  0\n",
            "4         536365    84029E       RED WOOLLY HOTTIE WHITE HEART.  ...   8  26  0\n",
            "...          ...       ...                                  ...  ...  ..  .. ..\n",
            "541904    581587     22613          PACK OF 20 SPACEBOY NAPKINS  ...  12  50  0\n",
            "541905    581587     22899         CHILDREN'S APRON DOLLY GIRL   ...  12  50  0\n",
            "541906    581587     23254        CHILDRENS CUTLERY DOLLY GIRL   ...  12  50  0\n",
            "541907    581587     23255      CHILDRENS CUTLERY CIRCUS PARADE  ...  12  50  0\n",
            "541908    581587     22138        BAKING SET 9 PIECE RETROSPOT   ...  12  50  0\n",
            "\n",
            "[406829 rows x 13 columns]\n"
          ],
          "name": "stdout"
        },
        {
          "output_type": "stream",
          "text": [
            "/usr/local/lib/python3.6/dist-packages/pandas/core/frame.py:2963: SettingWithCopyWarning: \n",
            "A value is trying to be set on a copy of a slice from a DataFrame.\n",
            "Try using .loc[row_indexer,col_indexer] = value instead\n",
            "\n",
            "See the caveats in the documentation: https://pandas.pydata.org/pandas-docs/stable/user_guide/indexing.html#returning-a-view-versus-a-copy\n",
            "  self[k1] = value[k2]\n"
          ],
          "name": "stderr"
        }
      ]
    },
    {
      "cell_type": "code",
      "metadata": {
        "id": "VzqJfhwsHRMD",
        "colab_type": "code",
        "outputId": "ee7b6ca2-207b-4d22-d86c-d418fb5bcc67",
        "colab": {
          "base_uri": "https://localhost:8080/",
          "height": 377
        }
      },
      "source": [
        "# splitting date to year,month and the day\n",
        "df1[['yy','mm','dd']] = df1['date'].astype(str).str.split('-', expand=True).astype(int)\n",
        "\n",
        "print (df1)\n",
        "\n"
      ],
      "execution_count": 9,
      "outputs": [
        {
          "output_type": "stream",
          "text": [
            "       InvoiceNo StockCode                          Description  ...    yy  mm  dd\n",
            "0         536365    85123A   WHITE HANGING HEART T-LIGHT HOLDER  ...  2010  12   1\n",
            "1         536365     71053                  WHITE METAL LANTERN  ...  2010  12   1\n",
            "2         536365    84406B       CREAM CUPID HEARTS COAT HANGER  ...  2010  12   1\n",
            "3         536365    84029G  KNITTED UNION FLAG HOT WATER BOTTLE  ...  2010  12   1\n",
            "4         536365    84029E       RED WOOLLY HOTTIE WHITE HEART.  ...  2010  12   1\n",
            "...          ...       ...                                  ...  ...   ...  ..  ..\n",
            "541904    581587     22613          PACK OF 20 SPACEBOY NAPKINS  ...  2011  12   9\n",
            "541905    581587     22899         CHILDREN'S APRON DOLLY GIRL   ...  2011  12   9\n",
            "541906    581587     23254        CHILDRENS CUTLERY DOLLY GIRL   ...  2011  12   9\n",
            "541907    581587     23255      CHILDRENS CUTLERY CIRCUS PARADE  ...  2011  12   9\n",
            "541908    581587     22138        BAKING SET 9 PIECE RETROSPOT   ...  2011  12   9\n",
            "\n",
            "[406829 rows x 16 columns]\n"
          ],
          "name": "stdout"
        },
        {
          "output_type": "stream",
          "text": [
            "/usr/local/lib/python3.6/dist-packages/pandas/core/frame.py:2963: SettingWithCopyWarning: \n",
            "A value is trying to be set on a copy of a slice from a DataFrame.\n",
            "Try using .loc[row_indexer,col_indexer] = value instead\n",
            "\n",
            "See the caveats in the documentation: https://pandas.pydata.org/pandas-docs/stable/user_guide/indexing.html#returning-a-view-versus-a-copy\n",
            "  self[k1] = value[k2]\n"
          ],
          "name": "stderr"
        }
      ]
    },
    {
      "cell_type": "code",
      "metadata": {
        "id": "rHFNQ2g5pyyg",
        "colab_type": "code",
        "colab": {}
      },
      "source": [
        "#creating a dataframe without cancelled transactions.\n",
        "df3=df1[~(df1.InvoiceNo.str.startswith('C'))]"
      ],
      "execution_count": 0,
      "outputs": []
    },
    {
      "cell_type": "code",
      "metadata": {
        "id": "4Wq4SxzJRNfI",
        "colab_type": "code",
        "outputId": "a0a731ca-b28a-4b06-aed2-a2ac0ebcbdc5",
        "colab": {
          "base_uri": "https://localhost:8080/",
          "height": 408
        }
      },
      "source": [
        "df3.info()"
      ],
      "execution_count": 11,
      "outputs": [
        {
          "output_type": "stream",
          "text": [
            "<class 'pandas.core.frame.DataFrame'>\n",
            "Int64Index: 397924 entries, 0 to 541908\n",
            "Data columns (total 16 columns):\n",
            " #   Column       Non-Null Count   Dtype         \n",
            "---  ------       --------------   -----         \n",
            " 0   InvoiceNo    397924 non-null  object        \n",
            " 1   StockCode    397924 non-null  object        \n",
            " 2   Description  397924 non-null  object        \n",
            " 3   Quantity     397924 non-null  int64         \n",
            " 4   InvoiceDate  397924 non-null  datetime64[ns]\n",
            " 5   UnitPrice    397924 non-null  float64       \n",
            " 6   CustomerID   397924 non-null  float64       \n",
            " 7   Country      397924 non-null  object        \n",
            " 8   date         397924 non-null  datetime64[ns]\n",
            " 9   time         397924 non-null  object        \n",
            " 10  h            397924 non-null  int64         \n",
            " 11  m            397924 non-null  int64         \n",
            " 12  s            397924 non-null  int64         \n",
            " 13  yy           397924 non-null  int64         \n",
            " 14  mm           397924 non-null  int64         \n",
            " 15  dd           397924 non-null  int64         \n",
            "dtypes: datetime64[ns](2), float64(2), int64(7), object(5)\n",
            "memory usage: 51.6+ MB\n"
          ],
          "name": "stdout"
        }
      ]
    },
    {
      "cell_type": "code",
      "metadata": {
        "id": "2lZPkDPOmPrs",
        "colab_type": "code",
        "colab": {
          "base_uri": "https://localhost:8080/",
          "height": 496
        },
        "outputId": "12f98eca-73f4-48e3-ea7b-a599c91a043e"
      },
      "source": [
        "df3.head()"
      ],
      "execution_count": 12,
      "outputs": [
        {
          "output_type": "execute_result",
          "data": {
            "text/html": [
              "<div>\n",
              "<style scoped>\n",
              "    .dataframe tbody tr th:only-of-type {\n",
              "        vertical-align: middle;\n",
              "    }\n",
              "\n",
              "    .dataframe tbody tr th {\n",
              "        vertical-align: top;\n",
              "    }\n",
              "\n",
              "    .dataframe thead th {\n",
              "        text-align: right;\n",
              "    }\n",
              "</style>\n",
              "<table border=\"1\" class=\"dataframe\">\n",
              "  <thead>\n",
              "    <tr style=\"text-align: right;\">\n",
              "      <th></th>\n",
              "      <th>InvoiceNo</th>\n",
              "      <th>StockCode</th>\n",
              "      <th>Description</th>\n",
              "      <th>Quantity</th>\n",
              "      <th>InvoiceDate</th>\n",
              "      <th>UnitPrice</th>\n",
              "      <th>CustomerID</th>\n",
              "      <th>Country</th>\n",
              "      <th>date</th>\n",
              "      <th>time</th>\n",
              "      <th>h</th>\n",
              "      <th>m</th>\n",
              "      <th>s</th>\n",
              "      <th>yy</th>\n",
              "      <th>mm</th>\n",
              "      <th>dd</th>\n",
              "    </tr>\n",
              "  </thead>\n",
              "  <tbody>\n",
              "    <tr>\n",
              "      <th>0</th>\n",
              "      <td>536365</td>\n",
              "      <td>85123A</td>\n",
              "      <td>WHITE HANGING HEART T-LIGHT HOLDER</td>\n",
              "      <td>6</td>\n",
              "      <td>2010-12-01 08:26:00</td>\n",
              "      <td>2.55</td>\n",
              "      <td>17850.0</td>\n",
              "      <td>United Kingdom</td>\n",
              "      <td>2010-12-01</td>\n",
              "      <td>08:26:00</td>\n",
              "      <td>8</td>\n",
              "      <td>26</td>\n",
              "      <td>0</td>\n",
              "      <td>2010</td>\n",
              "      <td>12</td>\n",
              "      <td>1</td>\n",
              "    </tr>\n",
              "    <tr>\n",
              "      <th>1</th>\n",
              "      <td>536365</td>\n",
              "      <td>71053</td>\n",
              "      <td>WHITE METAL LANTERN</td>\n",
              "      <td>6</td>\n",
              "      <td>2010-12-01 08:26:00</td>\n",
              "      <td>3.39</td>\n",
              "      <td>17850.0</td>\n",
              "      <td>United Kingdom</td>\n",
              "      <td>2010-12-01</td>\n",
              "      <td>08:26:00</td>\n",
              "      <td>8</td>\n",
              "      <td>26</td>\n",
              "      <td>0</td>\n",
              "      <td>2010</td>\n",
              "      <td>12</td>\n",
              "      <td>1</td>\n",
              "    </tr>\n",
              "    <tr>\n",
              "      <th>2</th>\n",
              "      <td>536365</td>\n",
              "      <td>84406B</td>\n",
              "      <td>CREAM CUPID HEARTS COAT HANGER</td>\n",
              "      <td>8</td>\n",
              "      <td>2010-12-01 08:26:00</td>\n",
              "      <td>2.75</td>\n",
              "      <td>17850.0</td>\n",
              "      <td>United Kingdom</td>\n",
              "      <td>2010-12-01</td>\n",
              "      <td>08:26:00</td>\n",
              "      <td>8</td>\n",
              "      <td>26</td>\n",
              "      <td>0</td>\n",
              "      <td>2010</td>\n",
              "      <td>12</td>\n",
              "      <td>1</td>\n",
              "    </tr>\n",
              "    <tr>\n",
              "      <th>3</th>\n",
              "      <td>536365</td>\n",
              "      <td>84029G</td>\n",
              "      <td>KNITTED UNION FLAG HOT WATER BOTTLE</td>\n",
              "      <td>6</td>\n",
              "      <td>2010-12-01 08:26:00</td>\n",
              "      <td>3.39</td>\n",
              "      <td>17850.0</td>\n",
              "      <td>United Kingdom</td>\n",
              "      <td>2010-12-01</td>\n",
              "      <td>08:26:00</td>\n",
              "      <td>8</td>\n",
              "      <td>26</td>\n",
              "      <td>0</td>\n",
              "      <td>2010</td>\n",
              "      <td>12</td>\n",
              "      <td>1</td>\n",
              "    </tr>\n",
              "    <tr>\n",
              "      <th>4</th>\n",
              "      <td>536365</td>\n",
              "      <td>84029E</td>\n",
              "      <td>RED WOOLLY HOTTIE WHITE HEART.</td>\n",
              "      <td>6</td>\n",
              "      <td>2010-12-01 08:26:00</td>\n",
              "      <td>3.39</td>\n",
              "      <td>17850.0</td>\n",
              "      <td>United Kingdom</td>\n",
              "      <td>2010-12-01</td>\n",
              "      <td>08:26:00</td>\n",
              "      <td>8</td>\n",
              "      <td>26</td>\n",
              "      <td>0</td>\n",
              "      <td>2010</td>\n",
              "      <td>12</td>\n",
              "      <td>1</td>\n",
              "    </tr>\n",
              "  </tbody>\n",
              "</table>\n",
              "</div>"
            ],
            "text/plain": [
              "  InvoiceNo StockCode                          Description  ...    yy  mm  dd\n",
              "0    536365    85123A   WHITE HANGING HEART T-LIGHT HOLDER  ...  2010  12   1\n",
              "1    536365     71053                  WHITE METAL LANTERN  ...  2010  12   1\n",
              "2    536365    84406B       CREAM CUPID HEARTS COAT HANGER  ...  2010  12   1\n",
              "3    536365    84029G  KNITTED UNION FLAG HOT WATER BOTTLE  ...  2010  12   1\n",
              "4    536365    84029E       RED WOOLLY HOTTIE WHITE HEART.  ...  2010  12   1\n",
              "\n",
              "[5 rows x 16 columns]"
            ]
          },
          "metadata": {
            "tags": []
          },
          "execution_count": 12
        }
      ]
    },
    {
      "cell_type": "code",
      "metadata": {
        "id": "f8ZoYMwzOSXp",
        "colab_type": "code",
        "outputId": "e67ca88a-897a-4c49-ccef-046f9165fcf3",
        "colab": {
          "base_uri": "https://localhost:8080/",
          "height": 139
        }
      },
      "source": [
        "#creating a new column for the total expenditure, quantity*unitprice\n",
        "df3['Total Expenditure']=df3.Quantity * df3.UnitPrice\n"
      ],
      "execution_count": 13,
      "outputs": [
        {
          "output_type": "stream",
          "text": [
            "/usr/local/lib/python3.6/dist-packages/ipykernel_launcher.py:2: SettingWithCopyWarning: \n",
            "A value is trying to be set on a copy of a slice from a DataFrame.\n",
            "Try using .loc[row_indexer,col_indexer] = value instead\n",
            "\n",
            "See the caveats in the documentation: https://pandas.pydata.org/pandas-docs/stable/user_guide/indexing.html#returning-a-view-versus-a-copy\n",
            "  \n"
          ],
          "name": "stderr"
        }
      ]
    },
    {
      "cell_type": "code",
      "metadata": {
        "id": "kuFqfc_is2Xu",
        "colab_type": "code",
        "outputId": "92da8723-e24c-4710-e2fa-c85ae7ff1832",
        "colab": {
          "base_uri": "https://localhost:8080/",
          "height": 284
        }
      },
      "source": [
        "#checking for outliers from our total expenditure column using a boxplot\n",
        "import matplotlib.pyplot as pit\n",
        "% matplotlib inline\n",
        "df3.boxplot(column = [\"Total Expenditure\"],grid = False)"
      ],
      "execution_count": 14,
      "outputs": [
        {
          "output_type": "execute_result",
          "data": {
            "text/plain": [
              "<matplotlib.axes._subplots.AxesSubplot at 0x7ffabcd3a470>"
            ]
          },
          "metadata": {
            "tags": []
          },
          "execution_count": 14
        },
        {
          "output_type": "display_data",
          "data": {
            "image/png": "[encoded data removed]",
            "text/plain": [
              "<Figure size 432x288 with 1 Axes>"
            ]
          },
          "metadata": {
            "tags": [],
            "needs_background": "light"
          }
        }
      ]
    },
    {
      "cell_type": "markdown",
      "metadata": {
        "id": "ODotC6mEjQpa",
        "colab_type": "text"
      },
      "source": [
        "Finding the cancelled transactions"
      ]
    },
    {
      "cell_type": "code",
      "metadata": {
        "id": "k0qTpKyZ0Qql",
        "colab_type": "code",
        "colab": {
          "base_uri": "https://localhost:8080/",
          "height": 440
        },
        "outputId": "cbfaa37c-3b45-4177-f1e2-351934b24591"
      },
      "source": [
        "sns.set(font_scale=1.4)\n",
        "df3['mm'].value_counts().plot(kind='bar',figsize=(7,6),rot=0)\n",
        "pit.xlabel('Months',labelpad=14)\n",
        "pit.ylabel('Total Expenditure', labelpad=14)\n",
        "pit.title('Total Expenditure by month graph',y=1.02);"
      ],
      "execution_count": 23,
      "outputs": [
        {
          "output_type": "display_data",
          "data": {
            "image/png": "[encoded data removed]",
            "text/plain": [
              "<Figure size 504x432 with 1 Axes>"
            ]
          },
          "metadata": {
            "tags": []
          }
        }
      ]
    },
    {
      "cell_type": "code",
      "metadata": {
        "id": "QEvstGjc2TUr",
        "colab_type": "code",
        "colab": {
          "base_uri": "https://localhost:8080/",
          "height": 391
        },
        "outputId": "c4602d3b-8dc0-4d87-e97a-086016914798"
      },
      "source": [
        "df3.groupby(\"Country\")[\"Total Expenditure\"].mean().sort_values(ascending=False).head(3).plot(kind='bar')"
      ],
      "execution_count": 25,
      "outputs": [
        {
          "output_type": "execute_result",
          "data": {
            "text/plain": [
              "<matplotlib.axes._subplots.AxesSubplot at 0x7ffa3e41eda0>"
            ]
          },
          "metadata": {
            "tags": []
          },
          "execution_count": 25
        },
        {
          "output_type": "display_data",
          "data": {
            "image/png": "[encoded data removed]",
            "text/plain": [
              "<Figure size 432x288 with 1 Axes>"
            ]
          },
          "metadata": {
            "tags": []
          }
        }
      ]
    },
    {
      "cell_type": "code",
      "metadata": {
        "id": "MTS2qjIGVzLv",
        "colab_type": "code",
        "colab": {
          "base_uri": "https://localhost:8080/",
          "height": 421
        },
        "outputId": "d1c8767c-ae00-465c-a714-1b7da2d0e648"
      },
      "source": [
        "df3.groupby(\"Country\")[\"StockCode\"].count().sort_values(ascending=False).head(3).plot(kind='bar')"
      ],
      "execution_count": 28,
      "outputs": [
        {
          "output_type": "execute_result",
          "data": {
            "text/plain": [
              "<matplotlib.axes._subplots.AxesSubplot at 0x7ffa3defee10>"
            ]
          },
          "metadata": {
            "tags": []
          },
          "execution_count": 28
        },
        {
          "output_type": "display_data",
          "data": {
            "image/png": "[encoded data removed]",
            "text/plain": [
              "<Figure size 432x288 with 1 Axes>"
            ]
          },
          "metadata": {
            "tags": []
          }
        }
      ]
    },
    {
      "cell_type": "code",
      "metadata": {
        "id": "CfMLzhw-gdae",
        "colab_type": "code",
        "colab": {}
      },
      "source": [
        "#creating a dataframe that has only cancelled transactions\n",
        "df4 = df1[df1.InvoiceNo.str.startswith('C')]"
      ],
      "execution_count": 0,
      "outputs": []
    },
    {
      "cell_type": "code",
      "metadata": {
        "id": "LzyJhQThjqcb",
        "colab_type": "code",
        "outputId": "4f76ce6f-bad0-465b-de63-53b3f12a183b",
        "colab": {
          "base_uri": "https://localhost:8080/",
          "height": 445
        }
      },
      "source": [
        "#previewing our dataframe\n",
        "df4.head()"
      ],
      "execution_count": 0,
      "outputs": [
        {
          "output_type": "execute_result",
          "data": {
            "text/html": [
              "<div>\n",
              "<style scoped>\n",
              "    .dataframe tbody tr th:only-of-type {\n",
              "        vertical-align: middle;\n",
              "    }\n",
              "\n",
              "    .dataframe tbody tr th {\n",
              "        vertical-align: top;\n",
              "    }\n",
              "\n",
              "    .dataframe thead th {\n",
              "        text-align: right;\n",
              "    }\n",
              "</style>\n",
              "<table border=\"1\" class=\"dataframe\">\n",
              "  <thead>\n",
              "    <tr style=\"text-align: right;\">\n",
              "      <th></th>\n",
              "      <th>InvoiceNo</th>\n",
              "      <th>StockCode</th>\n",
              "      <th>Description</th>\n",
              "      <th>Quantity</th>\n",
              "      <th>InvoiceDate</th>\n",
              "      <th>UnitPrice</th>\n",
              "      <th>CustomerID</th>\n",
              "      <th>Country</th>\n",
              "      <th>date</th>\n",
              "      <th>time</th>\n",
              "      <th>h</th>\n",
              "      <th>m</th>\n",
              "      <th>s</th>\n",
              "      <th>yy</th>\n",
              "      <th>mm</th>\n",
              "      <th>dd</th>\n",
              "    </tr>\n",
              "  </thead>\n",
              "  <tbody>\n",
              "    <tr>\n",
              "      <th>141</th>\n",
              "      <td>C536379</td>\n",
              "      <td>D</td>\n",
              "      <td>Discount</td>\n",
              "      <td>-1</td>\n",
              "      <td>2010-12-01 09:41:00</td>\n",
              "      <td>27.50</td>\n",
              "      <td>14527.0</td>\n",
              "      <td>United Kingdom</td>\n",
              "      <td>2010-12-01</td>\n",
              "      <td>09:41:00</td>\n",
              "      <td>9</td>\n",
              "      <td>41</td>\n",
              "      <td>0</td>\n",
              "      <td>2010</td>\n",
              "      <td>12</td>\n",
              "      <td>1</td>\n",
              "    </tr>\n",
              "    <tr>\n",
              "      <th>154</th>\n",
              "      <td>C536383</td>\n",
              "      <td>35004C</td>\n",
              "      <td>SET OF 3 COLOURED  FLYING DUCKS</td>\n",
              "      <td>-1</td>\n",
              "      <td>2010-12-01 09:49:00</td>\n",
              "      <td>4.65</td>\n",
              "      <td>15311.0</td>\n",
              "      <td>United Kingdom</td>\n",
              "      <td>2010-12-01</td>\n",
              "      <td>09:49:00</td>\n",
              "      <td>9</td>\n",
              "      <td>49</td>\n",
              "      <td>0</td>\n",
              "      <td>2010</td>\n",
              "      <td>12</td>\n",
              "      <td>1</td>\n",
              "    </tr>\n",
              "    <tr>\n",
              "      <th>235</th>\n",
              "      <td>C536391</td>\n",
              "      <td>22556</td>\n",
              "      <td>PLASTERS IN TIN CIRCUS PARADE</td>\n",
              "      <td>-12</td>\n",
              "      <td>2010-12-01 10:24:00</td>\n",
              "      <td>1.65</td>\n",
              "      <td>17548.0</td>\n",
              "      <td>United Kingdom</td>\n",
              "      <td>2010-12-01</td>\n",
              "      <td>10:24:00</td>\n",
              "      <td>10</td>\n",
              "      <td>24</td>\n",
              "      <td>0</td>\n",
              "      <td>2010</td>\n",
              "      <td>12</td>\n",
              "      <td>1</td>\n",
              "    </tr>\n",
              "    <tr>\n",
              "      <th>236</th>\n",
              "      <td>C536391</td>\n",
              "      <td>21984</td>\n",
              "      <td>PACK OF 12 PINK PAISLEY TISSUES</td>\n",
              "      <td>-24</td>\n",
              "      <td>2010-12-01 10:24:00</td>\n",
              "      <td>0.29</td>\n",
              "      <td>17548.0</td>\n",
              "      <td>United Kingdom</td>\n",
              "      <td>2010-12-01</td>\n",
              "      <td>10:24:00</td>\n",
              "      <td>10</td>\n",
              "      <td>24</td>\n",
              "      <td>0</td>\n",
              "      <td>2010</td>\n",
              "      <td>12</td>\n",
              "      <td>1</td>\n",
              "    </tr>\n",
              "    <tr>\n",
              "      <th>237</th>\n",
              "      <td>C536391</td>\n",
              "      <td>21983</td>\n",
              "      <td>PACK OF 12 BLUE PAISLEY TISSUES</td>\n",
              "      <td>-24</td>\n",
              "      <td>2010-12-01 10:24:00</td>\n",
              "      <td>0.29</td>\n",
              "      <td>17548.0</td>\n",
              "      <td>United Kingdom</td>\n",
              "      <td>2010-12-01</td>\n",
              "      <td>10:24:00</td>\n",
              "      <td>10</td>\n",
              "      <td>24</td>\n",
              "      <td>0</td>\n",
              "      <td>2010</td>\n",
              "      <td>12</td>\n",
              "      <td>1</td>\n",
              "    </tr>\n",
              "  </tbody>\n",
              "</table>\n",
              "</div>"
            ],
            "text/plain": [
              "    InvoiceNo StockCode                       Description  ...    yy  mm  dd\n",
              "141   C536379         D                          Discount  ...  2010  12   1\n",
              "154   C536383    35004C   SET OF 3 COLOURED  FLYING DUCKS  ...  2010  12   1\n",
              "235   C536391     22556    PLASTERS IN TIN CIRCUS PARADE   ...  2010  12   1\n",
              "236   C536391     21984  PACK OF 12 PINK PAISLEY TISSUES   ...  2010  12   1\n",
              "237   C536391     21983  PACK OF 12 BLUE PAISLEY TISSUES   ...  2010  12   1\n",
              "\n",
              "[5 rows x 16 columns]"
            ]
          },
          "metadata": {
            "tags": []
          },
          "execution_count": 40
        }
      ]
    },
    {
      "cell_type": "code",
      "metadata": {
        "id": "FPPwOPAJjtkt",
        "colab_type": "code",
        "outputId": "30d08efb-0b97-42f4-fce5-9d89c5e3ca2e",
        "colab": {
          "base_uri": "https://localhost:8080/",
          "height": 306
        }
      },
      "source": [
        "#counting the cancelled transactions \n",
        "df4.count()"
      ],
      "execution_count": 0,
      "outputs": [
        {
          "output_type": "execute_result",
          "data": {
            "text/plain": [
              "InvoiceNo      8905\n",
              "StockCode      8905\n",
              "Description    8905\n",
              "Quantity       8905\n",
              "InvoiceDate    8905\n",
              "UnitPrice      8905\n",
              "CustomerID     8905\n",
              "Country        8905\n",
              "date           8905\n",
              "time           8905\n",
              "h              8905\n",
              "m              8905\n",
              "s              8905\n",
              "yy             8905\n",
              "mm             8905\n",
              "dd             8905\n",
              "dtype: int64"
            ]
          },
          "metadata": {
            "tags": []
          },
          "execution_count": 41
        }
      ]
    },
    {
      "cell_type": "markdown",
      "metadata": {
        "id": "gPyF0sFoXEmI",
        "colab_type": "text"
      },
      "source": [
        "**DATA ANALYSIS**"
      ]
    },
    {
      "cell_type": "markdown",
      "metadata": {
        "id": "A1t9c34aXo3I",
        "colab_type": "text"
      },
      "source": [
        "1) Which is the peak month of the year? ,, Which is the most popular day for purchases?  which is the most popular hour in the most popular day."
      ]
    },
    {
      "cell_type": "markdown",
      "metadata": {
        "id": "nyq0s4aylS5G",
        "colab_type": "text"
      },
      "source": [
        "i) which is the peak month of the year"
      ]
    },
    {
      "cell_type": "code",
      "metadata": {
        "id": "PWbEUqvUGq5Z",
        "colab_type": "code",
        "outputId": "12b87872-fa2d-46eb-b20c-c5190adbda3a",
        "colab": {
          "base_uri": "https://localhost:8080/",
          "height": 255
        }
      },
      "source": [
        "df3.groupby(['mm'])['Total Expenditure'].sum().sort_values(ascending = False)"
      ],
      "execution_count": 0,
      "outputs": [
        {
          "output_type": "execute_result",
          "data": {
            "text/plain": [
              "mm\n",
              "11    1161817.380\n",
              "12    1090906.680\n",
              "10    1039318.790\n",
              "9      952838.382\n",
              "5      678594.560\n",
              "6      661213.690\n",
              "8      645343.900\n",
              "7      600091.011\n",
              "3      595500.760\n",
              "1      569445.040\n",
              "4      469200.361\n",
              "2      447137.350\n",
              "Name: Total Expenditure, dtype: float64"
            ]
          },
          "metadata": {
            "tags": []
          },
          "execution_count": 42
        }
      ]
    },
    {
      "cell_type": "markdown",
      "metadata": {
        "id": "voqloJymmDij",
        "colab_type": "text"
      },
      "source": [
        "ii) The most popular day in the most popular month."
      ]
    },
    {
      "cell_type": "code",
      "metadata": {
        "id": "oD7TgvPZK3dp",
        "colab_type": "code",
        "colab": {}
      },
      "source": [
        "#creating a  dataframe of the 11th month only.\n",
        "df10=df3[df3.mm==11]"
      ],
      "execution_count": 0,
      "outputs": []
    },
    {
      "cell_type": "code",
      "metadata": {
        "id": "GRui8hs6J6KN",
        "colab_type": "code",
        "outputId": "1189ab9e-1794-47a0-bb87-8c32b8669ef6",
        "colab": {
          "base_uri": "https://localhost:8080/",
          "height": 282
        }
      },
      "source": [
        "df10.mm.hist()"
      ],
      "execution_count": 0,
      "outputs": [
        {
          "output_type": "execute_result",
          "data": {
            "text/plain": [
              "<matplotlib.axes._subplots.AxesSubplot at 0x7f216af29860>"
            ]
          },
          "metadata": {
            "tags": []
          },
          "execution_count": 102
        },
        {
          "output_type": "display_data",
          "data": {
            "image/png": "[encoded data removed]",
            "text/plain": [
              "<Figure size 432x288 with 1 Axes>"
            ]
          },
          "metadata": {
            "tags": [],
            "needs_background": "light"
          }
        }
      ]
    },
    {
      "cell_type": "code",
      "metadata": {
        "id": "dsuZ3sAxl1oj",
        "colab_type": "code",
        "outputId": "7ce1c75b-2f43-4caa-fe8a-15a3a31485e2",
        "colab": {
          "base_uri": "https://localhost:8080/",
          "height": 493
        }
      },
      "source": [
        "#finding the most popular day.\n",
        "df10.groupby(['dd'])['Total Expenditure'].sum().sort_values(ascending=False)"
      ],
      "execution_count": 0,
      "outputs": [
        {
          "output_type": "execute_result",
          "data": {
            "text/plain": [
              "dd\n",
              "23    71979.93\n",
              "10    70513.29\n",
              "9     61489.18\n",
              "3     60672.11\n",
              "14    58777.71\n",
              "4     56099.24\n",
              "17    55885.30\n",
              "28    51831.67\n",
              "22    49664.89\n",
              "29    48851.68\n",
              "16    48439.76\n",
              "15    47729.00\n",
              "21    45333.13\n",
              "6     42941.34\n",
              "30    41481.23\n",
              "2     38734.70\n",
              "24    38579.11\n",
              "8     38295.12\n",
              "11    37081.37\n",
              "18    36751.25\n",
              "20    30190.92\n",
              "1     29132.81\n",
              "7     28779.24\n",
              "13    28607.78\n",
              "25    26674.66\n",
              "27    17300.96\n",
              "Name: Total Expenditure, dtype: float64"
            ]
          },
          "metadata": {
            "tags": []
          },
          "execution_count": 44
        }
      ]
    },
    {
      "cell_type": "markdown",
      "metadata": {
        "id": "b_LHhyO6odnr",
        "colab_type": "text"
      },
      "source": [
        "iii) the most popular hour in the most popular day of the most popular month."
      ]
    },
    {
      "cell_type": "code",
      "metadata": {
        "id": "euM31e1vJsOj",
        "colab_type": "code",
        "colab": {}
      },
      "source": [
        "# creating a dataframe where the day is on 23rd\n",
        "df8= df10[df10.dd==23]"
      ],
      "execution_count": 0,
      "outputs": []
    },
    {
      "cell_type": "code",
      "metadata": {
        "id": "dpmRgUplJB9g",
        "colab_type": "code",
        "outputId": "3c248aaa-b616-4ee2-d46f-4e62c97366ed",
        "colab": {
          "base_uri": "https://localhost:8080/",
          "height": 286
        }
      },
      "source": [
        "df8.h.hist()"
      ],
      "execution_count": 0,
      "outputs": [
        {
          "output_type": "execute_result",
          "data": {
            "text/plain": [
              "<matplotlib.axes._subplots.AxesSubplot at 0x7f216af52b38>"
            ]
          },
          "metadata": {
            "tags": []
          },
          "execution_count": 99
        },
        {
          "output_type": "display_data",
          "data": {
            "image/png": "[encoded data removed]",
            "text/plain": [
              "<Figure size 432x288 with 1 Axes>"
            ]
          },
          "metadata": {
            "tags": [],
            "needs_background": "light"
          }
        }
      ]
    },
    {
      "cell_type": "code",
      "metadata": {
        "id": "FmhTfCOvoNCE",
        "colab_type": "code",
        "outputId": "099b946e-907a-4ef0-8d12-5eb4860acdd0",
        "colab": {
          "base_uri": "https://localhost:8080/",
          "height": 221
        }
      },
      "source": [
        "#finding the most popular hour.\n",
        "df8.groupby(['h'])['Total Expenditure'].sum().sort_values(ascending=False)"
      ],
      "execution_count": 0,
      "outputs": [
        {
          "output_type": "execute_result",
          "data": {
            "text/plain": [
              "h\n",
              "10    15110.39\n",
              "15    13532.78\n",
              "13    12391.22\n",
              "12     8042.83\n",
              "11     6933.32\n",
              "16     5912.26\n",
              "14     5063.84\n",
              "9      2048.70\n",
              "8      1972.62\n",
              "17      971.97\n",
              "Name: Total Expenditure, dtype: float64"
            ]
          },
          "metadata": {
            "tags": []
          },
          "execution_count": 46
        }
      ]
    },
    {
      "cell_type": "markdown",
      "metadata": {
        "id": "Olb55-1HXTvC",
        "colab_type": "text"
      },
      "source": [
        "2) Which product is most popularly bought in the United Kingdom, France and Germany?Which are the top three countries? Which item has brought in most returns? Overall and in the individual countries? Is the most popular product"
      ]
    },
    {
      "cell_type": "code",
      "metadata": {
        "id": "oJC6OrW9Ywi8",
        "colab_type": "code",
        "outputId": "533f7459-d611-44d8-a104-2cabe86c6156",
        "colab": {
          "base_uri": "https://localhost:8080/",
          "height": 238
        }
      },
      "source": [
        "#Finding out the number of products sold\n",
        "df3.groupby('Description')['StockCode'].count().sort_values(ascending=False)"
      ],
      "execution_count": 0,
      "outputs": [
        {
          "output_type": "execute_result",
          "data": {
            "text/plain": [
              "Description\n",
              "WHITE HANGING HEART T-LIGHT HOLDER    2028\n",
              "REGENCY CAKESTAND 3 TIER              1724\n",
              "JUMBO BAG RED RETROSPOT               1618\n",
              "ASSORTED COLOUR BIRD ORNAMENT         1408\n",
              "PARTY BUNTING                         1397\n",
              "                                      ... \n",
              "PINK POLKADOT KIDS BAG                   1\n",
              "BLACK 3 BEAD DROP EARRINGS               1\n",
              "CRYSTAL CHANDELIER T-LIGHT HOLDER        1\n",
              "BLACK CHERRY LIGHTS                      1\n",
              "PINK BAROQUE FLOCK CANDLE HOLDER         1\n",
              "Name: StockCode, Length: 3877, dtype: int64"
            ]
          },
          "metadata": {
            "tags": []
          },
          "execution_count": 47
        }
      ]
    },
    {
      "cell_type": "code",
      "metadata": {
        "id": "tadpTvZcZFRN",
        "colab_type": "code",
        "outputId": "5cf37ee4-75e3-41cb-bc7c-adcc525e227e",
        "colab": {
          "base_uri": "https://localhost:8080/",
          "height": 680
        }
      },
      "source": [
        "#Finding out the number of goods sold to each country \n",
        "df3.groupby('Country')['StockCode'].count().sort_values(ascending=False)"
      ],
      "execution_count": 0,
      "outputs": [
        {
          "output_type": "execute_result",
          "data": {
            "text/plain": [
              "Country\n",
              "United Kingdom          354345\n",
              "Germany                   9042\n",
              "France                    8342\n",
              "EIRE                      7238\n",
              "Spain                     2485\n",
              "Netherlands               2363\n",
              "Belgium                   2031\n",
              "Switzerland               1842\n",
              "Portugal                  1462\n",
              "Australia                 1185\n",
              "Norway                    1072\n",
              "Italy                      758\n",
              "Channel Islands            748\n",
              "Finland                    685\n",
              "Cyprus                     614\n",
              "Sweden                     451\n",
              "Austria                    398\n",
              "Denmark                    380\n",
              "Poland                     330\n",
              "Japan                      321\n",
              "Israel                     248\n",
              "Unspecified                244\n",
              "Singapore                  222\n",
              "Iceland                    182\n",
              "USA                        179\n",
              "Canada                     151\n",
              "Greece                     145\n",
              "Malta                      112\n",
              "United Arab Emirates        68\n",
              "European Community          60\n",
              "RSA                         58\n",
              "Lebanon                     45\n",
              "Lithuania                   35\n",
              "Brazil                      32\n",
              "Czech Republic              25\n",
              "Bahrain                     17\n",
              "Saudi Arabia                 9\n",
              "Name: StockCode, dtype: int64"
            ]
          },
          "metadata": {
            "tags": []
          },
          "execution_count": 96
        }
      ]
    },
    {
      "cell_type": "code",
      "metadata": {
        "id": "GPXC8ZyXZYjo",
        "colab_type": "code",
        "colab": {}
      },
      "source": [
        "#Creating the new dataframe with countries as the United Kingdom\n",
        "df5=df3[df3.Country=='United Kingdom']"
      ],
      "execution_count": 0,
      "outputs": []
    },
    {
      "cell_type": "code",
      "metadata": {
        "id": "4hCWxN9JZcme",
        "colab_type": "code",
        "outputId": "f32cbecd-2b91-428b-e722-a771830a2904",
        "colab": {
          "base_uri": "https://localhost:8080/",
          "height": 238
        }
      },
      "source": [
        "#Counting the different products sold in the United Kingdom\n",
        "df5.groupby('Description')['StockCode'].count().sort_values(ascending=False)"
      ],
      "execution_count": 0,
      "outputs": [
        {
          "output_type": "execute_result",
          "data": {
            "text/plain": [
              "Description\n",
              "WHITE HANGING HEART T-LIGHT HOLDER     1940\n",
              "JUMBO BAG RED RETROSPOT                1464\n",
              "REGENCY CAKESTAND 3 TIER               1426\n",
              "ASSORTED COLOUR BIRD ORNAMENT          1333\n",
              "PARTY BUNTING                          1308\n",
              "                                       ... \n",
              "SET/3 TALL GLASS CANDLE HOLDER PINK       1\n",
              "GLASS AND BEADS BRACELET IVORY            1\n",
              "GLASS AND PAINTED BEADS BRACELET OL       1\n",
              "BAKING MOULD CUPCAKE CHOCOLATE            1\n",
              "LETTER \"O\" BLING KEY RING                 1\n",
              "Name: StockCode, Length: 3844, dtype: int64"
            ]
          },
          "metadata": {
            "tags": []
          },
          "execution_count": 50
        }
      ]
    },
    {
      "cell_type": "code",
      "metadata": {
        "id": "UP2_YtPsZp7b",
        "colab_type": "code",
        "colab": {}
      },
      "source": [
        "#Creating a new dataframe with the country as France\n",
        "df6=df3[df3.Country=='France']"
      ],
      "execution_count": 0,
      "outputs": []
    },
    {
      "cell_type": "code",
      "metadata": {
        "id": "ywrdQavbZyMn",
        "colab_type": "code",
        "outputId": "53824475-8211-448a-8df4-5509a6b6475e",
        "colab": {
          "base_uri": "https://localhost:8080/",
          "height": 238
        }
      },
      "source": [
        "#Counting the different products sold in France\n",
        "df6.groupby('Description')['StockCode'].count().sort_values(ascending=False)"
      ],
      "execution_count": 0,
      "outputs": [
        {
          "output_type": "execute_result",
          "data": {
            "text/plain": [
              "Description\n",
              "POSTAGE                             300\n",
              "RABBIT NIGHT LIGHT                   73\n",
              "RED TOADSTOOL LED NIGHT LIGHT        70\n",
              "PLASTERS IN TIN WOODLAND ANIMALS     68\n",
              "PLASTERS IN TIN CIRCUS PARADE        66\n",
              "                                   ... \n",
              "METAL MERRY CHRISTMAS WREATH          1\n",
              "MEDIUM PINK BUDDHA HEAD               1\n",
              "MEASURING TAPE BABUSHKA RED           1\n",
              "MEASURING TAPE BABUSHKA BLUE          1\n",
              " 50'S CHRISTMAS GIFT BAG LARGE        1\n",
              "Name: StockCode, Length: 1544, dtype: int64"
            ]
          },
          "metadata": {
            "tags": []
          },
          "execution_count": 52
        }
      ]
    },
    {
      "cell_type": "code",
      "metadata": {
        "id": "OKlAm7ZaZ8gZ",
        "colab_type": "code",
        "colab": {}
      },
      "source": [
        "#Creating a new dataframe with the country as Germany\n",
        "df7=df3[df3.Country=='Germany']"
      ],
      "execution_count": 0,
      "outputs": []
    },
    {
      "cell_type": "code",
      "metadata": {
        "id": "NMWa17fcaDB7",
        "colab_type": "code",
        "outputId": "839779e5-3925-4e02-f0ce-b9b7a0bdcb73",
        "colab": {
          "base_uri": "https://localhost:8080/",
          "height": 238
        }
      },
      "source": [
        "#Counting the different products sold in Germany\n",
        "df7.groupby('Description')['StockCode'].count().sort_values(ascending=False)"
      ],
      "execution_count": 0,
      "outputs": [
        {
          "output_type": "execute_result",
          "data": {
            "text/plain": [
              "Description\n",
              "POSTAGE                                374\n",
              "ROUND SNACK BOXES SET OF4 WOODLAND     113\n",
              "ROUND SNACK BOXES SET OF 4 FRUITS       72\n",
              "PLASTERS IN TIN WOODLAND ANIMALS        64\n",
              "REGENCY CAKESTAND 3 TIER                63\n",
              "                                      ... \n",
              "DANISH ROSE PHOTO FRAME                  1\n",
              "I'M ON HOLIDAY METAL SIGN                1\n",
              "DARK BIRD HOUSE TREE DECORATION          1\n",
              "MEDIUM MEDINA STAMPED METAL BOWL         1\n",
              "CHRISTMAS GINGHAM HEART                  1\n",
              "Name: StockCode, Length: 1697, dtype: int64"
            ]
          },
          "metadata": {
            "tags": []
          },
          "execution_count": 54
        }
      ]
    },
    {
      "cell_type": "code",
      "metadata": {
        "id": "puY-dkfUaYtV",
        "colab_type": "code",
        "outputId": "12fe3daa-8adb-4ea5-a202-149995be645d",
        "colab": {
          "base_uri": "https://localhost:8080/",
          "height": 238
        }
      },
      "source": [
        "#Getting the product that had the highest returns\n",
        "df3.groupby('Description')['Total Expenditure'].mean().sort_values(ascending=False)"
      ],
      "execution_count": 0,
      "outputs": [
        {
          "output_type": "execute_result",
          "data": {
            "text/plain": [
              "Description\n",
              "PAPER CRAFT , LITTLE BIRDIE            168469.60000\n",
              "PICNIC BASKET WICKER 60 PIECES          19809.75000\n",
              "TEA TIME TEA TOWELS                      3022.50000\n",
              "MISELTOE HEART WREATH CREAM               996.00000\n",
              "DOTCOM POSTAGE                            744.14750\n",
              "                                           ...     \n",
              "CHAMPAGNE TRAY BLANK CARD                   0.76000\n",
              "SET 12 COLOURING PENCILS DOILEY             0.65000\n",
              "60 GOLD AND SILVER FAIRY CAKE CASES         0.55000\n",
              "HEN HOUSE W CHICK IN NEST                   0.42000\n",
              "PADS TO MATCH ALL CUSHIONS                  0.00075\n",
              "Name: Total Expenditure, Length: 3877, dtype: float64"
            ]
          },
          "metadata": {
            "tags": []
          },
          "execution_count": 55
        }
      ]
    },
    {
      "cell_type": "code",
      "metadata": {
        "id": "ELEOuAtKa7Bg",
        "colab_type": "code",
        "outputId": "9bd8ffac-2963-467d-9ce3-4c368dc9fcbd",
        "colab": {
          "base_uri": "https://localhost:8080/",
          "height": 238
        }
      },
      "source": [
        "#Getting the product with the highest returns in the United Kingdom\n",
        "df5=df3[df3.Country=='United Kingdom']\n",
        "df5.groupby('Description')['Total Expenditure'].mean().sort_values(ascending=False)"
      ],
      "execution_count": 0,
      "outputs": [
        {
          "output_type": "execute_result",
          "data": {
            "text/plain": [
              "Description\n",
              "PAPER CRAFT , LITTLE BIRDIE            168469.60000\n",
              "PICNIC BASKET WICKER 60 PIECES          19809.75000\n",
              "TEA TIME TEA TOWELS                      3022.50000\n",
              "DOTCOM POSTAGE                            744.14750\n",
              "HALL CABINET WITH 3 DRAWERS               625.88250\n",
              "                                           ...     \n",
              "CHAMPAGNE TRAY BLANK CARD                   0.76000\n",
              "WINE BOTTLE DRESSING LT.BLUE                0.76000\n",
              "60 GOLD AND SILVER FAIRY CAKE CASES         0.55000\n",
              "HEN HOUSE W CHICK IN NEST                   0.42000\n",
              "PADS TO MATCH ALL CUSHIONS                  0.00075\n",
              "Name: Total Expenditure, Length: 3844, dtype: float64"
            ]
          },
          "metadata": {
            "tags": []
          },
          "execution_count": 56
        }
      ]
    },
    {
      "cell_type": "code",
      "metadata": {
        "id": "9r211264bF-9",
        "colab_type": "code",
        "outputId": "d3c02a87-51ca-4316-b1e5-727f0820fc26",
        "colab": {
          "base_uri": "https://localhost:8080/",
          "height": 238
        }
      },
      "source": [
        "#Getting the product with the highest returns in France\n",
        "df6=df3[df3.Country=='France']\n",
        "df6.groupby('Description')['Total Expenditure'].mean().sort_values(ascending=False)"
      ],
      "execution_count": 0,
      "outputs": [
        {
          "output_type": "execute_result",
          "data": {
            "text/plain": [
              "Description\n",
              "Manual                                1582.061667\n",
              "MINI WOODEN HAPPY BIRTHDAY GARLAND     835.200000\n",
              "PINK HAPPY BIRTHDAY BUNTING            232.500000\n",
              "PINK PAINTED KASHMIRI CHAIR            171.800000\n",
              "JUMBO BAG STRAWBERRY                   132.766667\n",
              "                                         ...     \n",
              "TRAVEL CARD WALLET VINTAGE ROSE          0.420000\n",
              "TRAVEL CARD WALLET RETRO PETALS          0.420000\n",
              "MIXED NUTS LIGHT GREEN BOWL              0.420000\n",
              "GLITTER HEART DECORATION                 0.390000\n",
              "BLUE EGG  SPOON                          0.360000\n",
              "Name: Total Expenditure, Length: 1544, dtype: float64"
            ]
          },
          "metadata": {
            "tags": []
          },
          "execution_count": 57
        }
      ]
    },
    {
      "cell_type": "code",
      "metadata": {
        "id": "m1nctcS5bbM6",
        "colab_type": "code",
        "outputId": "d1da2218-1c47-4db6-f0c2-763cc4b46989",
        "colab": {
          "base_uri": "https://localhost:8080/",
          "height": 238
        }
      },
      "source": [
        "#Getting the product with the most sales in Germany\n",
        "df7=df3[df3.Country=='Germany']\n",
        "df7.groupby('Description')['Total Expenditure'].mean().sort_values(ascending=False)"
      ],
      "execution_count": 0,
      "outputs": [
        {
          "output_type": "execute_result",
          "data": {
            "text/plain": [
              "Description\n",
              "STOOL HOME SWEET HOME               318.250000\n",
              "SET OF 16 VINTAGE BLACK CUTLERY     262.800000\n",
              "Manual                              255.138889\n",
              "COLOURING PENCILS BROWN TUBE        212.000000\n",
              "REGENCY CAKESTAND 3 TIER            143.840476\n",
              "                                       ...    \n",
              "FOLKART ZINC HEART CHRISTMAS DEC      0.850000\n",
              "SANDALWOOD FAN                        0.850000\n",
              "CHERUB HEART DECORATION GOLD          0.830000\n",
              "SWALLOW SQUARE TISSUE BOX             0.390000\n",
              "ROUND CAKE TIN VINTAGE GREEN          0.000000\n",
              "Name: Total Expenditure, Length: 1697, dtype: float64"
            ]
          },
          "metadata": {
            "tags": []
          },
          "execution_count": 58
        }
      ]
    },
    {
      "cell_type": "markdown",
      "metadata": {
        "id": "h1bZTITKX1g8",
        "colab_type": "text"
      },
      "source": [
        "3) Which items have brought in the least returns? Overall and in the individual countries?               Does the least popular product bring in the least returns?"
      ]
    },
    {
      "cell_type": "markdown",
      "metadata": {
        "id": "5YmSRBF5j8_K",
        "colab_type": "text"
      },
      "source": [
        "i)Getting products with the least returns overall"
      ]
    },
    {
      "cell_type": "code",
      "metadata": {
        "id": "u3SKzsMvcfsd",
        "colab_type": "code",
        "outputId": "60a24255-cefe-40fd-a963-a8fd3d82d04a",
        "colab": {
          "base_uri": "https://localhost:8080/",
          "height": 238
        }
      },
      "source": [
        "#Getting the products with the least returns overall\n",
        "df3.groupby('Description')['Total Expenditure'].mean().sort_values(ascending=True)"
      ],
      "execution_count": 0,
      "outputs": [
        {
          "output_type": "execute_result",
          "data": {
            "text/plain": [
              "Description\n",
              "PADS TO MATCH ALL CUSHIONS                  0.00075\n",
              "HEN HOUSE W CHICK IN NEST                   0.42000\n",
              "60 GOLD AND SILVER FAIRY CAKE CASES         0.55000\n",
              "SET 12 COLOURING PENCILS DOILEY             0.65000\n",
              "CHAMPAGNE TRAY BLANK CARD                   0.76000\n",
              "                                           ...     \n",
              "DOTCOM POSTAGE                            744.14750\n",
              "MISELTOE HEART WREATH CREAM               996.00000\n",
              "TEA TIME TEA TOWELS                      3022.50000\n",
              "PICNIC BASKET WICKER 60 PIECES          19809.75000\n",
              "PAPER CRAFT , LITTLE BIRDIE            168469.60000\n",
              "Name: Total Expenditure, Length: 3877, dtype: float64"
            ]
          },
          "metadata": {
            "tags": []
          },
          "execution_count": 63
        }
      ]
    },
    {
      "cell_type": "code",
      "metadata": {
        "id": "2RGOA6bLcvoQ",
        "colab_type": "code",
        "outputId": "a1d592c9-a5c8-4b18-9a48-eb1e9138416b",
        "colab": {
          "base_uri": "https://localhost:8080/",
          "height": 238
        }
      },
      "source": [
        "#Getting the product with the least returns in the United Kingdom\n",
        "df5.groupby('Description')['Total Expenditure'].mean().sort_values(ascending=True)"
      ],
      "execution_count": 0,
      "outputs": [
        {
          "output_type": "execute_result",
          "data": {
            "text/plain": [
              "Description\n",
              "PADS TO MATCH ALL CUSHIONS                  0.00075\n",
              "HEN HOUSE W CHICK IN NEST                   0.42000\n",
              "60 GOLD AND SILVER FAIRY CAKE CASES         0.55000\n",
              "WINE BOTTLE DRESSING LT.BLUE                0.76000\n",
              "CHAMPAGNE TRAY BLANK CARD                   0.76000\n",
              "                                           ...     \n",
              "HALL CABINET WITH 3 DRAWERS               625.88250\n",
              "DOTCOM POSTAGE                            744.14750\n",
              "TEA TIME TEA TOWELS                      3022.50000\n",
              "PICNIC BASKET WICKER 60 PIECES          19809.75000\n",
              "PAPER CRAFT , LITTLE BIRDIE            168469.60000\n",
              "Name: Total Expenditure, Length: 3844, dtype: float64"
            ]
          },
          "metadata": {
            "tags": []
          },
          "execution_count": 64
        }
      ]
    },
    {
      "cell_type": "code",
      "metadata": {
        "id": "Kj4gqUIdc3ww",
        "colab_type": "code",
        "outputId": "72e44513-8e7b-4a8e-ce4b-b1fa79229010",
        "colab": {
          "base_uri": "https://localhost:8080/",
          "height": 238
        }
      },
      "source": [
        "#Getting the product with the least returns in France\n",
        "df6.groupby('Description')['Total Expenditure'].mean().sort_values(ascending=True)"
      ],
      "execution_count": 0,
      "outputs": [
        {
          "output_type": "execute_result",
          "data": {
            "text/plain": [
              "Description\n",
              "BLUE EGG  SPOON                          0.360000\n",
              "GLITTER HEART DECORATION                 0.390000\n",
              "MIXED NUTS LIGHT GREEN BOWL              0.420000\n",
              "TRAVEL CARD WALLET RETRO PETALS          0.420000\n",
              "TRAVEL CARD WALLET VINTAGE ROSE          0.420000\n",
              "                                         ...     \n",
              "JUMBO BAG STRAWBERRY                   132.766667\n",
              "PINK PAINTED KASHMIRI CHAIR            171.800000\n",
              "PINK HAPPY BIRTHDAY BUNTING            232.500000\n",
              "MINI WOODEN HAPPY BIRTHDAY GARLAND     835.200000\n",
              "Manual                                1582.061667\n",
              "Name: Total Expenditure, Length: 1544, dtype: float64"
            ]
          },
          "metadata": {
            "tags": []
          },
          "execution_count": 65
        }
      ]
    },
    {
      "cell_type": "code",
      "metadata": {
        "id": "qCD5d273c-fb",
        "colab_type": "code",
        "outputId": "459ba348-de76-4729-a806-c341260039a0",
        "colab": {
          "base_uri": "https://localhost:8080/",
          "height": 238
        }
      },
      "source": [
        "#Getting the product with the least returns in Germany\n",
        "df7.groupby('Description')['Total Expenditure'].mean().sort_values(ascending=True)"
      ],
      "execution_count": 0,
      "outputs": [
        {
          "output_type": "execute_result",
          "data": {
            "text/plain": [
              "Description\n",
              "ROUND CAKE TIN VINTAGE GREEN          0.000000\n",
              "SWALLOW SQUARE TISSUE BOX             0.390000\n",
              "CHERUB HEART DECORATION GOLD          0.830000\n",
              "SANDALWOOD FAN                        0.850000\n",
              "FOLKART ZINC HEART CHRISTMAS DEC      0.850000\n",
              "                                       ...    \n",
              "REGENCY CAKESTAND 3 TIER            143.840476\n",
              "COLOURING PENCILS BROWN TUBE        212.000000\n",
              "Manual                              255.138889\n",
              "SET OF 16 VINTAGE BLACK CUTLERY     262.800000\n",
              "STOOL HOME SWEET HOME               318.250000\n",
              "Name: Total Expenditure, Length: 1697, dtype: float64"
            ]
          },
          "metadata": {
            "tags": []
          },
          "execution_count": 66
        }
      ]
    },
    {
      "cell_type": "code",
      "metadata": {
        "id": "pQA5BLFbdG-e",
        "colab_type": "code",
        "outputId": "28d4d826-cebb-4b8a-a269-23dede8dacc2",
        "colab": {
          "base_uri": "https://localhost:8080/",
          "height": 238
        }
      },
      "source": [
        "#Counting the least sold products overall\n",
        "df3.groupby('Description')['Total Expenditure'].count().sort_values(ascending=True)"
      ],
      "execution_count": 0,
      "outputs": [
        {
          "output_type": "execute_result",
          "data": {
            "text/plain": [
              "Description\n",
              "PINK BAROQUE FLOCK CANDLE HOLDER         1\n",
              "BLACK CHERRY LIGHTS                      1\n",
              "CRYSTAL CHANDELIER T-LIGHT HOLDER        1\n",
              "BLACK 3 BEAD DROP EARRINGS               1\n",
              "PINK POLKADOT KIDS BAG                   1\n",
              "                                      ... \n",
              "PARTY BUNTING                         1397\n",
              "ASSORTED COLOUR BIRD ORNAMENT         1408\n",
              "JUMBO BAG RED RETROSPOT               1618\n",
              "REGENCY CAKESTAND 3 TIER              1724\n",
              "WHITE HANGING HEART T-LIGHT HOLDER    2028\n",
              "Name: Total Expenditure, Length: 3877, dtype: int64"
            ]
          },
          "metadata": {
            "tags": []
          },
          "execution_count": 67
        }
      ]
    },
    {
      "cell_type": "code",
      "metadata": {
        "id": "rvtO-ZCBdQR_",
        "colab_type": "code",
        "outputId": "aa6559e4-4d7f-4619-8d4c-7fbd0e81074b",
        "colab": {
          "base_uri": "https://localhost:8080/",
          "height": 238
        }
      },
      "source": [
        "#Counting the least sold products in the United Kingdom\n",
        "df5.groupby('Description')['Total Expenditure'].count().sort_values(ascending=True)"
      ],
      "execution_count": 0,
      "outputs": [
        {
          "output_type": "execute_result",
          "data": {
            "text/plain": [
              "Description\n",
              "LETTER \"O\" BLING KEY RING                 1\n",
              "BAKING MOULD CUPCAKE CHOCOLATE            1\n",
              "GLASS AND PAINTED BEADS BRACELET OL       1\n",
              "GLASS AND BEADS BRACELET IVORY            1\n",
              "SET/3 TALL GLASS CANDLE HOLDER PINK       1\n",
              "                                       ... \n",
              "PARTY BUNTING                          1308\n",
              "ASSORTED COLOUR BIRD ORNAMENT          1333\n",
              "REGENCY CAKESTAND 3 TIER               1426\n",
              "JUMBO BAG RED RETROSPOT                1464\n",
              "WHITE HANGING HEART T-LIGHT HOLDER     1940\n",
              "Name: Total Expenditure, Length: 3844, dtype: int64"
            ]
          },
          "metadata": {
            "tags": []
          },
          "execution_count": 68
        }
      ]
    },
    {
      "cell_type": "code",
      "metadata": {
        "id": "aCpCSC9MdYv1",
        "colab_type": "code",
        "outputId": "9c3f1892-3cbc-48b6-eb12-f8d891c77303",
        "colab": {
          "base_uri": "https://localhost:8080/",
          "height": 238
        }
      },
      "source": [
        "#Counting the least sold products in the France\n",
        "df6.groupby('Description')['Total Expenditure'].count().sort_values(ascending=True)"
      ],
      "execution_count": 0,
      "outputs": [
        {
          "output_type": "execute_result",
          "data": {
            "text/plain": [
              "Description\n",
              " 50'S CHRISTMAS GIFT BAG LARGE        1\n",
              "MEASURING TAPE BABUSHKA BLUE          1\n",
              "MEASURING TAPE BABUSHKA RED           1\n",
              "MEDIUM PINK BUDDHA HEAD               1\n",
              "METAL MERRY CHRISTMAS WREATH          1\n",
              "                                   ... \n",
              "PLASTERS IN TIN CIRCUS PARADE        66\n",
              "PLASTERS IN TIN WOODLAND ANIMALS     68\n",
              "RED TOADSTOOL LED NIGHT LIGHT        70\n",
              "RABBIT NIGHT LIGHT                   73\n",
              "POSTAGE                             300\n",
              "Name: Total Expenditure, Length: 1544, dtype: int64"
            ]
          },
          "metadata": {
            "tags": []
          },
          "execution_count": 69
        }
      ]
    },
    {
      "cell_type": "code",
      "metadata": {
        "id": "l2oJJF8mdhQC",
        "colab_type": "code",
        "outputId": "1f5fcdf7-bff5-484f-dd19-467723480aa1",
        "colab": {
          "base_uri": "https://localhost:8080/",
          "height": 238
        }
      },
      "source": [
        "#Counting the least sold products in Germany\n",
        "df7.groupby('Description')['Total Expenditure'].count().sort_values(ascending=True)"
      ],
      "execution_count": 0,
      "outputs": [
        {
          "output_type": "execute_result",
          "data": {
            "text/plain": [
              "Description\n",
              "CHRISTMAS GINGHAM HEART                  1\n",
              "MEDIUM MEDINA STAMPED METAL BOWL         1\n",
              "DARK BIRD HOUSE TREE DECORATION          1\n",
              "I'M ON HOLIDAY METAL SIGN                1\n",
              "DANISH ROSE PHOTO FRAME                  1\n",
              "                                      ... \n",
              "REGENCY CAKESTAND 3 TIER                63\n",
              "PLASTERS IN TIN WOODLAND ANIMALS        64\n",
              "ROUND SNACK BOXES SET OF 4 FRUITS       72\n",
              "ROUND SNACK BOXES SET OF4 WOODLAND     113\n",
              "POSTAGE                                374\n",
              "Name: Total Expenditure, Length: 1697, dtype: int64"
            ]
          },
          "metadata": {
            "tags": []
          },
          "execution_count": 70
        }
      ]
    },
    {
      "cell_type": "markdown",
      "metadata": {
        "id": "HOA9nUdWXMcw",
        "colab_type": "text"
      },
      "source": [
        "4) Which products are more likely to have cancelling issues? The country with the highest cancelling issues,the popular product cancelled least and the highest"
      ]
    },
    {
      "cell_type": "code",
      "metadata": {
        "id": "80ZyMsh3mTKd",
        "colab_type": "code",
        "outputId": "0a430bd3-5bf9-4980-9356-6c3ac63ba921",
        "colab": {
          "base_uri": "https://localhost:8080/",
          "height": 139
        }
      },
      "source": [
        "#creating a new column cost that is the unitprice*quantity\n",
        "df4['cost']=df4.Quantity * df4.UnitPrice"
      ],
      "execution_count": 0,
      "outputs": [
        {
          "output_type": "stream",
          "text": [
            "/usr/local/lib/python3.6/dist-packages/ipykernel_launcher.py:2: SettingWithCopyWarning: \n",
            "A value is trying to be set on a copy of a slice from a DataFrame.\n",
            "Try using .loc[row_indexer,col_indexer] = value instead\n",
            "\n",
            "See the caveats in the documentation: https://pandas.pydata.org/pandas-docs/stable/user_guide/indexing.html#returning-a-view-versus-a-copy\n",
            "  \n"
          ],
          "name": "stderr"
        }
      ]
    },
    {
      "cell_type": "code",
      "metadata": {
        "id": "CoZ4V6ALkoi2",
        "colab_type": "code",
        "outputId": "0b304035-2799-4a9d-e63d-2ed960b2b63b",
        "colab": {
          "base_uri": "https://localhost:8080/",
          "height": 527
        }
      },
      "source": [
        "# i) Country with the highest cancelling issue\n",
        "df4.groupby(['Country'])['cost'].sum().sort_values(ascending=True )"
      ],
      "execution_count": 0,
      "outputs": [
        {
          "output_type": "execute_result",
          "data": {
            "text/plain": [
              "Country\n",
              "United Kingdom       -540518.16\n",
              "EIRE                  -15260.68\n",
              "France                -12311.21\n",
              "Singapore             -12158.90\n",
              "Germany                -7168.93\n",
              "Spain                  -6802.53\n",
              "Portugal               -4380.08\n",
              "Japan                  -2075.75\n",
              "USA                    -1849.47\n",
              "Sweden                 -1782.42\n",
              "Australia              -1444.04\n",
              "Norway                 -1001.98\n",
              "Netherlands             -784.80\n",
              "Switzerland             -704.55\n",
              "Cyprus                  -644.09\n",
              "Italy                   -592.73\n",
              "Channel Islands         -364.15\n",
              "Belgium                 -285.38\n",
              "Israel                  -227.44\n",
              "Malta                   -220.12\n",
              "Finland                 -219.34\n",
              "Denmark                 -187.20\n",
              "Poland                  -121.51\n",
              "Czech Republic          -119.02\n",
              "Greece                   -50.00\n",
              "Austria                  -44.36\n",
              "Saudi Arabia             -14.75\n",
              "European Community        -8.50\n",
              "Name: cost, dtype: float64"
            ]
          },
          "metadata": {
            "tags": []
          },
          "execution_count": 60
        }
      ]
    },
    {
      "cell_type": "code",
      "metadata": {
        "id": "G2-whwNPm8Ys",
        "colab_type": "code",
        "outputId": "5e491525-c2b5-4413-976a-645ad8a09db1",
        "colab": {
          "base_uri": "https://localhost:8080/",
          "height": 238
        }
      },
      "source": [
        "# ii) The most cancelled product\n",
        "df4.groupby(['Description'])['Quantity'].sum().sort_values(ascending=True)"
      ],
      "execution_count": 0,
      "outputs": [
        {
          "output_type": "execute_result",
          "data": {
            "text/plain": [
              "Description\n",
              "PAPER CRAFT , LITTLE BIRDIE           -80995\n",
              "MEDIUM CERAMIC TOP STORAGE JAR        -74494\n",
              "ROTATING SILVER ANGELS T-LIGHT HLDR    -9367\n",
              "Manual                                 -3995\n",
              "FAIRY CAKE FLANNEL ASSORTED COLOUR     -3150\n",
              "                                       ...  \n",
              "BLACK BAROQUE WALL CLOCK                  -1\n",
              "RECYCLED ACAPULCO MAT TURQUOISE           -1\n",
              "RECYCLED ACAPULCO MAT PINK                -1\n",
              "BLACK HEART CARD HOLDER                   -1\n",
              "FUNKY WASHING UP GLOVES ASSORTED          -1\n",
              "Name: Quantity, Length: 1945, dtype: int64"
            ]
          },
          "metadata": {
            "tags": []
          },
          "execution_count": 61
        }
      ]
    },
    {
      "cell_type": "code",
      "metadata": {
        "id": "xjvHliCgooSg",
        "colab_type": "code",
        "outputId": "cb98e320-bec7-4092-d1d6-0b975aef2259",
        "colab": {
          "base_uri": "https://localhost:8080/",
          "height": 238
        }
      },
      "source": [
        "# iii) The least cancelled product\n",
        "df4.groupby(['Description'])['Quantity'].sum().sort_values(ascending=False)"
      ],
      "execution_count": 0,
      "outputs": [
        {
          "output_type": "execute_result",
          "data": {
            "text/plain": [
              "Description\n",
              "FUNKY WASHING UP GLOVES ASSORTED          -1\n",
              "BLACK HEART CARD HOLDER                   -1\n",
              "RECYCLED ACAPULCO MAT PINK                -1\n",
              "RECYCLED ACAPULCO MAT TURQUOISE           -1\n",
              "BLACK BAROQUE WALL CLOCK                  -1\n",
              "                                       ...  \n",
              "FAIRY CAKE FLANNEL ASSORTED COLOUR     -3150\n",
              "Manual                                 -3995\n",
              "ROTATING SILVER ANGELS T-LIGHT HLDR    -9367\n",
              "MEDIUM CERAMIC TOP STORAGE JAR        -74494\n",
              "PAPER CRAFT , LITTLE BIRDIE           -80995\n",
              "Name: Quantity, Length: 1945, dtype: int64"
            ]
          },
          "metadata": {
            "tags": []
          },
          "execution_count": 62
        }
      ]
    },
    {
      "cell_type": "markdown",
      "metadata": {
        "id": "FbwWVRZpX-Tv",
        "colab_type": "text"
      },
      "source": [
        "5) Which country do we have the most customers from? Is it the country bringing the most revenue? ,What is the average expenditure of a consumer in the the given countries."
      ]
    },
    {
      "cell_type": "code",
      "metadata": {
        "id": "dMVVy5vOpS7n",
        "colab_type": "code",
        "outputId": "34e7cfa2-f1e8-4b7b-8cc8-021ec6458477",
        "colab": {
          "base_uri": "https://localhost:8080/",
          "height": 139
        }
      },
      "source": [
        "#changing country to string datatype to allow for grouping\n",
        "df3[\"Country\"] = df3[\"Country\"].astype(\"str\")"
      ],
      "execution_count": 0,
      "outputs": [
        {
          "output_type": "stream",
          "text": [
            "/usr/local/lib/python3.6/dist-packages/ipykernel_launcher.py:2: SettingWithCopyWarning: \n",
            "A value is trying to be set on a copy of a slice from a DataFrame.\n",
            "Try using .loc[row_indexer,col_indexer] = value instead\n",
            "\n",
            "See the caveats in the documentation: https://pandas.pydata.org/pandas-docs/stable/user_guide/indexing.html#returning-a-view-versus-a-copy\n",
            "  \n"
          ],
          "name": "stderr"
        }
      ]
    },
    {
      "cell_type": "code",
      "metadata": {
        "id": "OO_nFwPFwXb4",
        "colab_type": "code",
        "outputId": "7cf6e012-0ca8-44c7-ca5e-66313d95007f",
        "colab": {
          "base_uri": "https://localhost:8080/",
          "height": 680
        }
      },
      "source": [
        "#the country with the most customers\n",
        "df3.groupby (['Country'])['CustomerID'].count().sort_values(ascending= False)"
      ],
      "execution_count": 0,
      "outputs": [
        {
          "output_type": "execute_result",
          "data": {
            "text/plain": [
              "Country\n",
              "United Kingdom          354345\n",
              "Germany                   9042\n",
              "France                    8342\n",
              "EIRE                      7238\n",
              "Spain                     2485\n",
              "Netherlands               2363\n",
              "Belgium                   2031\n",
              "Switzerland               1842\n",
              "Portugal                  1462\n",
              "Australia                 1185\n",
              "Norway                    1072\n",
              "Italy                      758\n",
              "Channel Islands            748\n",
              "Finland                    685\n",
              "Cyprus                     614\n",
              "Sweden                     451\n",
              "Austria                    398\n",
              "Denmark                    380\n",
              "Poland                     330\n",
              "Japan                      321\n",
              "Israel                     248\n",
              "Unspecified                244\n",
              "Singapore                  222\n",
              "Iceland                    182\n",
              "USA                        179\n",
              "Canada                     151\n",
              "Greece                     145\n",
              "Malta                      112\n",
              "United Arab Emirates        68\n",
              "European Community          60\n",
              "RSA                         58\n",
              "Lebanon                     45\n",
              "Lithuania                   35\n",
              "Brazil                      32\n",
              "Czech Republic              25\n",
              "Bahrain                     17\n",
              "Saudi Arabia                 9\n",
              "Name: CustomerID, dtype: int64"
            ]
          },
          "metadata": {
            "tags": []
          },
          "execution_count": 76
        }
      ]
    },
    {
      "cell_type": "code",
      "metadata": {
        "id": "60q3sw8swAj6",
        "colab_type": "code",
        "outputId": "eb03a646-48dd-4f90-ae3e-c7e2354550be",
        "colab": {
          "base_uri": "https://localhost:8080/",
          "height": 680
        }
      },
      "source": [
        "#country bringing in the most revenue?\n",
        "df3['Total Expenditure'].groupby(df3['Country']).sum().sort_values(ascending=False)"
      ],
      "execution_count": 0,
      "outputs": [
        {
          "output_type": "execute_result",
          "data": {
            "text/plain": [
              "Country\n",
              "United Kingdom          7.308392e+06\n",
              "Netherlands             2.854463e+05\n",
              "EIRE                    2.655459e+05\n",
              "Germany                 2.288671e+05\n",
              "France                  2.090240e+05\n",
              "Australia               1.385213e+05\n",
              "Spain                   6.157711e+04\n",
              "Switzerland             5.644395e+04\n",
              "Belgium                 4.119634e+04\n",
              "Sweden                  3.837833e+04\n",
              "Japan                   3.741637e+04\n",
              "Norway                  3.616544e+04\n",
              "Portugal                3.343989e+04\n",
              "Finland                 2.254608e+04\n",
              "Singapore               2.127929e+04\n",
              "Channel Islands         2.045044e+04\n",
              "Denmark                 1.895534e+04\n",
              "Italy                   1.748324e+04\n",
              "Cyprus                  1.359038e+04\n",
              "Austria                 1.019868e+04\n",
              "Poland                  7.334650e+03\n",
              "Israel                  7.221690e+03\n",
              "Greece                  4.760520e+03\n",
              "Iceland                 4.310000e+03\n",
              "Canada                  3.666380e+03\n",
              "USA                     3.580390e+03\n",
              "Malta                   2.725590e+03\n",
              "Unspecified             2.667070e+03\n",
              "United Arab Emirates    1.902280e+03\n",
              "Lebanon                 1.693880e+03\n",
              "Lithuania               1.661060e+03\n",
              "European Community      1.300250e+03\n",
              "Brazil                  1.143600e+03\n",
              "RSA                     1.002310e+03\n",
              "Czech Republic          8.267400e+02\n",
              "Bahrain                 5.484000e+02\n",
              "Saudi Arabia            1.459200e+02\n",
              "Name: Total Expenditure, dtype: float64"
            ]
          },
          "metadata": {
            "tags": []
          },
          "execution_count": 72
        }
      ]
    },
    {
      "cell_type": "code",
      "metadata": {
        "id": "67ZGoKqAwHgv",
        "colab_type": "code",
        "outputId": "565af2a1-656a-417b-a1cb-f53dbe2b2d9d",
        "colab": {
          "base_uri": "https://localhost:8080/",
          "height": 238
        }
      },
      "source": [
        "#mean expenditure of each consumer per country\n",
        "df3['Total Expenditure'].groupby([df3['Country'],df3['CustomerID']]).mean()"
      ],
      "execution_count": 0,
      "outputs": [
        {
          "output_type": "execute_result",
          "data": {
            "text/plain": [
              "Country         CustomerID\n",
              "Australia       12386.0        40.190000\n",
              "                12388.0        27.806600\n",
              "                12393.0        24.728125\n",
              "                12415.0       174.461634\n",
              "                12422.0        18.390476\n",
              "                                 ...    \n",
              "United Kingdom  18287.0        26.246857\n",
              "Unspecified     12363.0        24.000000\n",
              "                12743.0         4.077836\n",
              "                14265.0        17.102581\n",
              "                16320.0        18.543929\n",
              "Name: Total Expenditure, Length: 4347, dtype: float64"
            ]
          },
          "metadata": {
            "tags": []
          },
          "execution_count": 73
        }
      ]
    },
    {
      "cell_type": "code",
      "metadata": {
        "id": "2Mf3duRpwO4a",
        "colab_type": "code",
        "outputId": "5c1474dc-9d5a-4312-a711-dda9ee55eed2",
        "colab": {
          "base_uri": "https://localhost:8080/",
          "height": 680
        }
      },
      "source": [
        "#mean expenditure per country\n",
        "df3['Total Expenditure'].groupby(df3['Country']).mean().sort_values(ascending = False)"
      ],
      "execution_count": 0,
      "outputs": [
        {
          "output_type": "execute_result",
          "data": {
            "text/plain": [
              "Country\n",
              "Netherlands             120.798282\n",
              "Australia               116.895620\n",
              "Japan                   116.561900\n",
              "Singapore                95.852658\n",
              "Sweden                   85.096075\n",
              "Denmark                  49.882474\n",
              "Lithuania                47.458857\n",
              "Lebanon                  37.641778\n",
              "EIRE                     36.687745\n",
              "Brazil                   35.737500\n",
              "Norway                   33.736418\n",
              "Czech Republic           33.069600\n",
              "Finland                  32.913985\n",
              "Greece                   32.831172\n",
              "Bahrain                  32.258824\n",
              "Switzerland              30.642752\n",
              "Israel                   29.119718\n",
              "United Arab Emirates     27.974706\n",
              "Channel Islands          27.340160\n",
              "Austria                  25.624824\n",
              "Germany                  25.311562\n",
              "France                   25.056827\n",
              "Spain                    24.779521\n",
              "Malta                    24.335625\n",
              "Canada                   24.280662\n",
              "Iceland                  23.681319\n",
              "Italy                    23.064960\n",
              "Portugal                 22.872702\n",
              "Poland                   22.226212\n",
              "Cyprus                   22.134169\n",
              "European Community       21.670833\n",
              "United Kingdom           20.625073\n",
              "Belgium                  20.283772\n",
              "USA                      20.002179\n",
              "RSA                      17.281207\n",
              "Saudi Arabia             16.213333\n",
              "Unspecified              10.930615\n",
              "Name: Total Expenditure, dtype: float64"
            ]
          },
          "metadata": {
            "tags": []
          },
          "execution_count": 74
        }
      ]
    },
    {
      "cell_type": "code",
      "metadata": {
        "id": "lL71c4J_T0ha",
        "colab_type": "code",
        "colab": {}
      },
      "source": [
        ""
      ],
      "execution_count": 0,
      "outputs": []
    }
  ]
}